{
 "cells": [
  {
   "cell_type": "code",
   "execution_count": null,
   "metadata": {},
   "outputs": [],
   "source": [
    "from pathlib import Path\n",
    "import requests\n",
    "\n",
    "def download_one_file_of_raw_data(year: int, month: int) -> Path:\n",
    "\n",
    "    URL = f'https://d37ci6vzurychx.cloudfront.net/trip-data/yellow_tripdata_{year}-{month:02d}.parquet'\n",
    "    response = requests.get(URL)\n",
    "\n",
    "    if response.status_code == 200:\n",
    "        path = f'../data/raw/rides_{year}-{month:02d}.parquet'\n",
    "        open(path, 'wb').write(response.content)\n",
    "        return path\n",
    "    else:\n",
    "        raise Exception(f'{URL} is not available.')"
   ]
  }
 ],
 "metadata": {
  "kernelspec": {
   "display_name": ".venv",
   "language": "python",
   "name": "python3"
  },
  "language_info": {
   "name": "python",
   "version": "3.10.13"
  }
 },
 "nbformat": 4,
 "nbformat_minor": 2
}
